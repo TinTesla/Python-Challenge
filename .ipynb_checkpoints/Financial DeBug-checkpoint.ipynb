{
 "cells": [
  {
   "cell_type": "code",
   "execution_count": null,
   "id": "a14e9e24",
   "metadata": {},
   "outputs": [],
   "source": [
    "import os\n",
    "import csv"
   ]
  },
  {
   "cell_type": "code",
   "execution_count": null,
   "id": "a0175329",
   "metadata": {},
   "outputs": [],
   "source": [
    "budget_date = []\n",
    "budget_pl = []\n",
    "\n",
    "budget_path = os.path.join('Resources', 'budget_data.csv')\n",
    "with open(budget_path, 'r') as csvfile:\n",
    "    csvreader = csv.reader(csvfile, delimiter=\",\")\n",
    "    for row in csvreader:\n",
    "        budget_date.append(row[0])\n",
    "        budget_pl.append(row[1])"
   ]
  },
  {
   "cell_type": "code",
   "execution_count": null,
   "id": "2f3ac678",
   "metadata": {},
   "outputs": [],
   "source": [
    "total_months = -1\n",
    "\n",
    "for x in budget_date:\n",
    "    total_months = total_months + 1\n",
    "print(total_months)"
   ]
  },
  {
   "cell_type": "code",
   "execution_count": null,
   "id": "b4366c59",
   "metadata": {},
   "outputs": [],
   "source": [
    "grt_in= 0\n",
    "grt_dc= 1000000000\n",
    "total_total= 0\n",
    "\n",
    "\n",
    "for i  in budget_pl[1:]:\n",
    "    total_total = total_total + int(i)\n",
    "    if int(i) > grt_in:\n",
    "        grt_in = int(i)\n",
    "    elif int(i) < grt_dc:\n",
    "        grt_dc = int(i)\n",
    "avg_change = total_total / total_months"
   ]
  },
  {
   "cell_type": "code",
   "execution_count": null,
   "id": "9f9297e5",
   "metadata": {},
   "outputs": [],
   "source": [
    "print(total_total)\n",
    "print(total_months)\n",
    "print(avg_change)\n",
    "print(grt_in)\n",
    "print(grt_dc)"
   ]
  },
  {
   "cell_type": "code",
   "execution_count": null,
   "id": "dcca78c2",
   "metadata": {},
   "outputs": [],
   "source": [
    "#txt output\n",
    "with open('Analysis/Financial_Analysis.txt', 'w') as f:\n",
    "    f.write(f\"Financial Analysis\\n\")\n",
    "    f.write(f\"---------------------------\\n\")\n",
    "    f.write(f\"Total Months:  {str(total_months)}\\n\")\n",
    "    f.write(f\"Total: {str(total_total)}\\n\") \n",
    "    f.write(f\"Average Change: {str(avg_change)}\\n\")\n",
    "    f.write(f\"Greatest Increase in Profits: {str(grt_in)}\\n\")\n",
    "    f.write(f\"Greatest Decrease in Profits: {str(grt_dc)}\\n\")"
   ]
  },
  {
   "cell_type": "code",
   "execution_count": null,
   "id": "1ada2a63",
   "metadata": {},
   "outputs": [],
   "source": []
  }
 ],
 "metadata": {
  "kernelspec": {
   "display_name": "PythonData",
   "language": "python",
   "name": "pythondata"
  },
  "language_info": {
   "codemirror_mode": {
    "name": "ipython",
    "version": 3
   },
   "file_extension": ".py",
   "mimetype": "text/x-python",
   "name": "python",
   "nbconvert_exporter": "python",
   "pygments_lexer": "ipython3",
   "version": "3.9.13"
  }
 },
 "nbformat": 4,
 "nbformat_minor": 5
}
