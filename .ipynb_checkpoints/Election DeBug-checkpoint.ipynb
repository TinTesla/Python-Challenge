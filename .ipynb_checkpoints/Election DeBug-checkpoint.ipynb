{
 "cells": [
  {
   "cell_type": "code",
   "execution_count": null,
   "id": "8e08311d",
   "metadata": {},
   "outputs": [],
   "source": [
    "import os\n",
    "import csv"
   ]
  },
  {
   "cell_type": "code",
   "execution_count": null,
   "id": "be1c9079",
   "metadata": {},
   "outputs": [],
   "source": [
    "el_canidate = []\n",
    "\n",
    "budget_path = os.path.join('Resources', 'election_data.csv')\n",
    "with open(budget_path, 'r') as csvfile:\n",
    "    csvreader = csv.reader(csvfile, delimiter=\",\")\n",
    "    for row in csvreader:\n",
    "        el_canidate.append(row[2])"
   ]
  },
  {
   "cell_type": "code",
   "execution_count": null,
   "id": "41128711",
   "metadata": {},
   "outputs": [],
   "source": [
    "total_votes= -1\n",
    "votes_charles= 0\n",
    "votes_diana= 0\n",
    "votes_raymon= 0\n",
    "\n",
    "for x in el_canidate:\n",
    "    total_votes = total_votes + 1\n",
    "    if x == \"Charles Casper Stockham\":\n",
    "        votes_charles = votes_charles + 1\n",
    "    elif x == \"Diana DeGette\":\n",
    "        votes_diana = votes_diana + 1\n",
    "    elif x == \"Raymon Anthony Doane\":\n",
    "        votes_raymon = votes_raymon + 1\n",
    "        \n",
    "print(total_votes)\n",
    "print(votes_charles)\n",
    "print(votes_charles)\n",
    "print(votes_raymon)"
   ]
  },
  {
   "cell_type": "code",
   "execution_count": null,
   "id": "2ef24bd4",
   "metadata": {},
   "outputs": [],
   "source": [
    "p_charles = 0\n",
    "p_diana = 0\n",
    "p_raymon = 0\n",
    "\n",
    "p_charles = round(votes_charles / total_votes *100, 2)\n",
    "p_charles = str(p_charles) + \"%\"\n",
    "p_diana = round(votes_diana / total_votes *100, 2)\n",
    "p_diana = str(p_diana) + \"%\"\n",
    "p_raymon = round(votes_raymon / total_votes *100, 2)\n",
    "p_raymon = str(p_raymon) + \"%\"\n",
    "\n",
    "print(p_charles)\n",
    "print(p_diana)\n",
    "print(p_raymon)"
   ]
  },
  {
   "cell_type": "code",
   "execution_count": null,
   "id": "fe7ee9fc",
   "metadata": {},
   "outputs": [],
   "source": [
    "votes_winner=()\n",
    "\n",
    "if votes_charles > votes_diana and votes_charles > votes_raymon:\n",
    "    votes_winner = \"Charles Casper Stockham\"\n",
    "elif votes_diana > votes_charles and votes_diana > votes_raymon:\n",
    "    votes_winner = \"Diana DeGette\"\n",
    "elif votes_raymon > votes_charles and votes_raymon > votes_diana :\n",
    "    votes_winner = \"Raymon Anthony Doane\"\n",
    "\n",
    "print(votes_winner)"
   ]
  },
  {
   "cell_type": "code",
   "execution_count": null,
   "id": "19e69600",
   "metadata": {},
   "outputs": [],
   "source": [
    "with open('Analysis/Election_Analysis.txt', 'w') as f:\n",
    "    f.write(f\"Election Results\\n\")\n",
    "    f.write(f\"---------------------------\\n\")\n",
    "    f.write(f\"Total Votes:  {str(total_votes)}\\n\")\n",
    "    f.write(f\"---------------------------\\n\")\n",
    "    f.write(f\"Charles Casper Stockham: {str(p_charles)}\\n\")\n",
    "    f.write(f\"Diana DeGette: {str(p_diana)}\\n\")      \n",
    "    f.write(f\"Raymon Anthony Doane: {str(p_raymon)}\\n\") \n",
    "    f.write(f\"---------------------------\\n\")           \n",
    "    f.write(f\"Winner: {str(votes_winner)}\\n\")"
   ]
  },
  {
   "cell_type": "code",
   "execution_count": null,
   "id": "f78bcb68",
   "metadata": {},
   "outputs": [],
   "source": []
  }
 ],
 "metadata": {
  "kernelspec": {
   "display_name": "PythonData",
   "language": "python",
   "name": "pythondata"
  },
  "language_info": {
   "codemirror_mode": {
    "name": "ipython",
    "version": 3
   },
   "file_extension": ".py",
   "mimetype": "text/x-python",
   "name": "python",
   "nbconvert_exporter": "python",
   "pygments_lexer": "ipython3",
   "version": "3.9.13"
  }
 },
 "nbformat": 4,
 "nbformat_minor": 5
}
