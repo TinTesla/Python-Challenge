{
 "cells": [
  {
   "cell_type": "code",
   "execution_count": null,
   "id": "4e5a074a",
   "metadata": {},
   "outputs": [],
   "source": [
    "import os\n",
    "import csv"
   ]
  },
  {
   "cell_type": "code",
   "execution_count": null,
   "id": "9d6ef302",
   "metadata": {},
   "outputs": [],
   "source": [
    "#value placeholders\n",
    "budget_date = []\n",
    "budget_pl = []\n",
    "total_months = -1\n",
    "total_total= 0\n",
    "#starting Values\n",
    "grt_in= 0\n",
    "grt_dc= 1000000000"
   ]
  },
  {
   "cell_type": "code",
   "execution_count": null,
   "id": "9aa15970",
   "metadata": {},
   "outputs": [],
   "source": [
    "#csv pathing\n",
    "budget_path = os.path.join('Resources', 'budget_data.csv')\n",
    "with open(budget_path, 'r') as csvfile:\n",
    "    csvreader = csv.reader(csvfile, delimiter=\",\")\n",
    "    for row in csvreader:\n",
    "        #building lists\n",
    "        budget_date.append(row[0])\n",
    "        budget_pl.append(row[1])"
   ]
  },
  {
   "cell_type": "code",
   "execution_count": null,
   "id": "c6ee07a9",
   "metadata": {},
   "outputs": [],
   "source": [
    "#counting dates\n",
    "for x in budget_date:\n",
    "    total_months = total_months + 1\n",
    "print(total_months)"
   ]
  },
  {
   "cell_type": "code",
   "execution_count": null,
   "id": "a60b962d",
   "metadata": {},
   "outputs": [],
   "source": [
    "#profit/ loss calculations\n",
    "for i  in budget_pl[1:]:\n",
    "    total_total = total_total + int(i)\n",
    "    if int(i) > grt_in:\n",
    "        grt_in = int(i)\n",
    "    elif int(i) < grt_dc:\n",
    "        grt_dc = int(i)\n",
    "avg_change = total_total / total_months"
   ]
  },
  {
   "cell_type": "code",
   "execution_count": null,
   "id": "613f0cf3",
   "metadata": {},
   "outputs": [],
   "source": [
    "#print Check\n",
    "print(total_total)\n",
    "print(total_months)\n",
    "print(avg_change)\n",
    "print(grt_in)\n",
    "print(grt_dc)"
   ]
  },
  {
   "cell_type": "code",
   "execution_count": null,
   "id": "a19bde69",
   "metadata": {},
   "outputs": [],
   "source": [
    "#txt output\n",
    "with open('Analysis/Financial_Analysis.txt', 'w') as f:\n",
    "    f.write(f\"Financial Analysis\")\n",
    "    f.write(f\"---------------------------\")\n",
    "    f.write(f\"Total Months:  {str(total_months)}\")\n",
    "    f.write(f\"Total: {str(total_total)}\") \n",
    "    f.write(f\"Average Change: {str(avg_change)}\")\n",
    "    f.write(f\"Greatest Increase in Profits: {str(grt_in)}\")\n",
    "    f.write(f\"Greatest Decrease in Profits: {str(grt_dc)}\")"
   ]
  }
 ],
 "metadata": {
  "kernelspec": {
   "display_name": "PythonData",
   "language": "python",
   "name": "pythondata"
  },
  "language_info": {
   "codemirror_mode": {
    "name": "ipython",
    "version": 3
   },
   "file_extension": ".py",
   "mimetype": "text/x-python",
   "name": "python",
   "nbconvert_exporter": "python",
   "pygments_lexer": "ipython3",
   "version": "3.9.13"
  }
 },
 "nbformat": 4,
 "nbformat_minor": 5
}
