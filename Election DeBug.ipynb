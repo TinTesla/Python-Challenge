{
 "cells": [
  {
   "cell_type": "code",
   "execution_count": 1,
   "id": "bfa92417",
   "metadata": {},
   "outputs": [],
   "source": [
    "import os\n",
    "import csv"
   ]
  },
  {
   "cell_type": "code",
   "execution_count": 2,
   "id": "c79ec4e8",
   "metadata": {},
   "outputs": [],
   "source": [
    "#value placeholders\n",
    "el_canidate = []\n",
    "total_votes= -1\n",
    "votes_charles= 0\n",
    "votes_diana= 0\n",
    "votes_raymon= 0\n",
    "votes_winner=()"
   ]
  },
  {
   "cell_type": "code",
   "execution_count": 3,
   "id": "0946993e",
   "metadata": {},
   "outputs": [],
   "source": [
    "#csv pathing\n",
    "budget_path = os.path.join('Resources', 'election_data.csv')\n",
    "with open(budget_path, 'r') as csvfile:\n",
    "    csvreader = csv.reader(csvfile, delimiter=\",\")\n",
    "    for row in csvreader:\n",
    "        #building lists\n",
    "        el_canidate.append(row[2])"
   ]
  },
  {
   "cell_type": "code",
   "execution_count": 4,
   "id": "44a0755a",
   "metadata": {},
   "outputs": [],
   "source": [
    "#counting dates\n",
    "for x in el_canidate:\n",
    "    total_votes = total_votes + 1\n",
    "    if x == \"Charles Casper Stockham\":\n",
    "        votes_charles = votes_charles + 1\n",
    "    elif x == \"Diana DeGette\":\n",
    "        votes_diana = votes_diana + 1\n",
    "    elif x == \"Raymon Anthony Doane\":\n",
    "        votes_raymon = votes_raymon + 1"
   ]
  },
  {
   "cell_type": "code",
   "execution_count": 5,
   "id": "e32e309f",
   "metadata": {},
   "outputs": [
    {
     "name": "stdout",
     "output_type": "stream",
     "text": [
      "369711\n",
      "85213\n",
      "85213\n",
      "11606\n"
     ]
    }
   ],
   "source": [
    "print(total_votes)\n",
    "print(votes_charles)\n",
    "print(votes_charles)\n",
    "print(votes_raymon)"
   ]
  },
  {
   "cell_type": "code",
   "execution_count": 6,
   "id": "da92e1ac",
   "metadata": {},
   "outputs": [],
   "source": [
    "#print Check\n",
    "p_charles = ()\n",
    "p_diana = 0\n",
    "p_raymon = 0"
   ]
  },
  {
   "cell_type": "code",
   "execution_count": 7,
   "id": "32ee3a1c",
   "metadata": {},
   "outputs": [
    {
     "name": "stdout",
     "output_type": "stream",
     "text": [
      "23.05%\n",
      "73.81%\n",
      "3.14%\n"
     ]
    }
   ],
   "source": [
    "p_charles = round(votes_charles / total_votes *100, 2)\n",
    "p_charles = str(p_charles) + \"%\"\n",
    "p_diana = round(votes_diana / total_votes *100, 2)\n",
    "p_diana = str(p_diana) + \"%\"\n",
    "p_raymon = round(votes_raymon / total_votes *100, 2)\n",
    "p_raymon = str(p_raymon) + \"%\"\n",
    "\n",
    "print(p_charles)\n",
    "print(p_diana)\n",
    "print(p_raymon)"
   ]
  },
  {
   "cell_type": "code",
   "execution_count": 9,
   "id": "d60a73e5",
   "metadata": {},
   "outputs": [
    {
     "name": "stdout",
     "output_type": "stream",
     "text": [
      "Diana DeGette\n"
     ]
    }
   ],
   "source": [
    "votes_winner=()\n",
    "\n",
    "if votes_charles > votes_diana and votes_charles > votes_raymon:\n",
    "    votes_winner = \"Charles Casper Stockham\"\n",
    "elif votes_diana > votes_charles and votes_diana > votes_raymon:\n",
    "    votes_winner = \"Diana DeGette\"\n",
    "elif votes_raymon > votes_charles and votes_raymon > votes_diana :\n",
    "    votes_winner = \"Raymon Anthony Doane\"\n",
    "\n",
    "print(votes_winner)"
   ]
  },
  {
   "cell_type": "code",
   "execution_count": 11,
   "id": "b176f954",
   "metadata": {},
   "outputs": [],
   "source": [
    "with open('Analysis/Election_Analysis.txt', 'w') as f:\n",
    "    f.write(f\"Election Results\\n\")\n",
    "    f.write(f\"---------------------------\\n\")\n",
    "    f.write(f\"Total Votes:  {str(total_votes)}\\n\")\n",
    "    f.write(f\"---------------------------\\n\")\n",
    "    f.write(f\"Charles Casper Stockham: {str(p_charles)}\\n\")\n",
    "    f.write(f\"Diana DeGette: {str(p_diana)}\\n\")      \n",
    "    f.write(f\"Raymon Anthony Doane: {str(p_raymon)}\\n\") \n",
    "    f.write(f\"---------------------------\\n\")           \n",
    "    f.write(f\"Winner: {str(votes_winner)}\\n\")"
   ]
  },
  {
   "cell_type": "code",
   "execution_count": null,
   "id": "892942aa",
   "metadata": {},
   "outputs": [],
   "source": []
  }
 ],
 "metadata": {
  "kernelspec": {
   "display_name": "PythonData",
   "language": "python",
   "name": "pythondata"
  },
  "language_info": {
   "codemirror_mode": {
    "name": "ipython",
    "version": 3
   },
   "file_extension": ".py",
   "mimetype": "text/x-python",
   "name": "python",
   "nbconvert_exporter": "python",
   "pygments_lexer": "ipython3",
   "version": "3.9.13"
  }
 },
 "nbformat": 4,
 "nbformat_minor": 5
}
