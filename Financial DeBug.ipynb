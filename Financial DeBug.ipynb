{
 "cells": [
  {
   "cell_type": "code",
   "execution_count": 1,
   "id": "5a94ea6a",
   "metadata": {},
   "outputs": [],
   "source": [
    "import os\n",
    "import csv"
   ]
  },
  {
   "cell_type": "code",
   "execution_count": 2,
   "id": "0291d77e",
   "metadata": {},
   "outputs": [],
   "source": [
    "#value placeholders\n",
    "budget_date = []\n",
    "budget_pl = []\n",
    "total_months = -1\n",
    "total_total= 0\n",
    "#starting Values\n",
    "grt_in= 0\n",
    "grt_dc= 1000000000"
   ]
  },
  {
   "cell_type": "code",
   "execution_count": 3,
   "id": "58038c6c",
   "metadata": {},
   "outputs": [],
   "source": [
    "#csv pathing\n",
    "budget_path = os.path.join('Resources', 'budget_data.csv')\n",
    "with open(budget_path, 'r') as csvfile:\n",
    "    csvreader = csv.reader(csvfile, delimiter=\",\")\n",
    "    for row in csvreader:\n",
    "        #building lists\n",
    "        budget_date.append(row[0])\n",
    "        budget_pl.append(row[1])"
   ]
  },
  {
   "cell_type": "code",
   "execution_count": 4,
   "id": "e1389b18",
   "metadata": {},
   "outputs": [
    {
     "name": "stdout",
     "output_type": "stream",
     "text": [
      "86\n"
     ]
    }
   ],
   "source": [
    "#counting dates\n",
    "for x in budget_date:\n",
    "    total_months = total_months + 1\n",
    "print(total_months)"
   ]
  },
  {
   "cell_type": "code",
   "execution_count": 5,
   "id": "92db7148",
   "metadata": {},
   "outputs": [],
   "source": [
    "#profit/ loss calculations\n",
    "for i  in budget_pl[1:]:\n",
    "    total_total = total_total + int(i)\n",
    "    if int(i) > grt_in:\n",
    "        grt_in = int(i)\n",
    "    elif int(i) < grt_dc:\n",
    "        grt_dc = int(i)\n",
    "avg_change = total_total / total_months"
   ]
  },
  {
   "cell_type": "code",
   "execution_count": 6,
   "id": "e941ec8c",
   "metadata": {},
   "outputs": [
    {
     "ename": "SyntaxError",
     "evalue": "invalid syntax (538702842.py, line 5)",
     "output_type": "error",
     "traceback": [
      "\u001b[1;36m  File \u001b[1;32m\"C:\\Users\\Admin\\AppData\\Local\\Temp\\ipykernel_4024\\538702842.py\"\u001b[1;36m, line \u001b[1;32m5\u001b[0m\n\u001b[1;33m    print(grt_in)\u001b[0m\n\u001b[1;37m    ^\u001b[0m\n\u001b[1;31mSyntaxError\u001b[0m\u001b[1;31m:\u001b[0m invalid syntax\n"
     ]
    }
   ],
   "source": [
    "\n",
    "print(total_total)\n",
    "print(total_months)\n",
    "print(avg_change)\n",
    "print(grt_in)\n",
    "print(grt_dc)"
   ]
  },
  {
   "cell_type": "code",
   "execution_count": null,
   "id": "87d6795f",
   "metadata": {},
   "outputs": [],
   "source": [
    "#txt output\n",
    "with open('Analysis/Financial_Analysis.txt', 'w') as f:\n",
    "    f.write(f\"Financial Analysis\\n\")\n",
    "    f.write(f\"---------------------------\\n\")\n",
    "    f.write(f\"Total Months:  {str(total_months)}\\n\")\n",
    "    f.write(f\"Total: {str(total_total)}\\n\") \n",
    "    f.write(f\"Average Change: {str(avg_change)}\\n\")\n",
    "    f.write(f\"Greatest Increase in Profits: {str(grt_in)}\\n\")\n",
    "    f.write(f\"Greatest Decrease in Profits: {str(grt_dc)}\\n\")"
   ]
  },
  {
   "cell_type": "code",
   "execution_count": null,
   "id": "5227a227",
   "metadata": {},
   "outputs": [],
   "source": []
  }
 ],
 "metadata": {
  "kernelspec": {
   "display_name": "PythonData",
   "language": "python",
   "name": "pythondata"
  },
  "language_info": {
   "codemirror_mode": {
    "name": "ipython",
    "version": 3
   },
   "file_extension": ".py",
   "mimetype": "text/x-python",
   "name": "python",
   "nbconvert_exporter": "python",
   "pygments_lexer": "ipython3",
   "version": "3.9.13"
  }
 },
 "nbformat": 4,
 "nbformat_minor": 5
}
